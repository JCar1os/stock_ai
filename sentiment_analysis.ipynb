{
 "cells": [
  {
   "cell_type": "code",
   "execution_count": 6,
   "metadata": {},
   "outputs": [],
   "source": [
    "import pandas\n",
    "import os\n",
    "from textblob import TextBlob"
   ]
  },
  {
   "cell_type": "code",
   "execution_count": 7,
   "metadata": {},
   "outputs": [
    {
     "data": {
      "text/html": [
       "<div>\n",
       "<style scoped>\n",
       "    .dataframe tbody tr th:only-of-type {\n",
       "        vertical-align: middle;\n",
       "    }\n",
       "\n",
       "    .dataframe tbody tr th {\n",
       "        vertical-align: top;\n",
       "    }\n",
       "\n",
       "    .dataframe thead th {\n",
       "        text-align: right;\n",
       "    }\n",
       "</style>\n",
       "<table border=\"1\" class=\"dataframe\">\n",
       "  <thead>\n",
       "    <tr style=\"text-align: right;\">\n",
       "      <th></th>\n",
       "      <th>ticker</th>\n",
       "      <th>title</th>\n",
       "      <th>description</th>\n",
       "      <th>pub_date</th>\n",
       "      <th>link</th>\n",
       "      <th>author</th>\n",
       "    </tr>\n",
       "  </thead>\n",
       "  <tbody>\n",
       "    <tr>\n",
       "      <th>1793</th>\n",
       "      <td>YELP</td>\n",
       "      <td>'This is America taking a big step backward': ...</td>\n",
       "      <td>A number of major corporations have already ta...</td>\n",
       "      <td>June 24, 2022 at 12:16 PM</td>\n",
       "      <td>https://finance.yahoo.com/news/this-is-america...</td>\n",
       "      <td>Yahoo Finance</td>\n",
       "    </tr>\n",
       "    <tr>\n",
       "      <th>1794</th>\n",
       "      <td>YELP</td>\n",
       "      <td>Abortion: How corporate America is responding ...</td>\n",
       "      <td>Yahoo Finance's Allie Canal joins the Live sho...</td>\n",
       "      <td>June 24, 2022 at 2:27 PM</td>\n",
       "      <td>https://finance.yahoo.com/video/abortion-corpo...</td>\n",
       "      <td>Yahoo Finance Video</td>\n",
       "    </tr>\n",
       "    <tr>\n",
       "      <th>1795</th>\n",
       "      <td>YELP</td>\n",
       "      <td>CDC panel backs Moderna vaccine for children a...</td>\n",
       "      <td>CDC panel backs Moderna vaccine for children a...</td>\n",
       "      <td>Fri, 24 Jun 2022 15:03:00 GMT</td>\n",
       "      <td>https://www.marketwatch.com/story/cdc-panel-ba...</td>\n",
       "      <td>MarketWatch</td>\n",
       "    </tr>\n",
       "    <tr>\n",
       "      <th>1796</th>\n",
       "      <td>YELP</td>\n",
       "      <td>Disney, Amazon, Netflix among companies offeri...</td>\n",
       "      <td>Yahoo Finance's Allie Garfinkle discusses how ...</td>\n",
       "      <td>June 24, 2022 at 11:04 AM</td>\n",
       "      <td>https://finance.yahoo.com/video/disney-amazon-...</td>\n",
       "      <td>Yahoo Finance Video</td>\n",
       "    </tr>\n",
       "    <tr>\n",
       "      <th>1797</th>\n",
       "      <td>YELP</td>\n",
       "      <td>How the Supreme Court Roe v. Wade decision imp...</td>\n",
       "      <td>Yahoo Finance's Allie Canal breaks down the ec...</td>\n",
       "      <td>June 24, 2022 at 10:22 AM</td>\n",
       "      <td>https://finance.yahoo.com/video/supreme-court-...</td>\n",
       "      <td>Yahoo Finance Video</td>\n",
       "    </tr>\n",
       "  </tbody>\n",
       "</table>\n",
       "</div>"
      ],
      "text/plain": [
       "     ticker                                              title  \\\n",
       "1793   YELP  'This is America taking a big step backward': ...   \n",
       "1794   YELP  Abortion: How corporate America is responding ...   \n",
       "1795   YELP  CDC panel backs Moderna vaccine for children a...   \n",
       "1796   YELP  Disney, Amazon, Netflix among companies offeri...   \n",
       "1797   YELP  How the Supreme Court Roe v. Wade decision imp...   \n",
       "\n",
       "                                            description  \\\n",
       "1793  A number of major corporations have already ta...   \n",
       "1794  Yahoo Finance's Allie Canal joins the Live sho...   \n",
       "1795  CDC panel backs Moderna vaccine for children a...   \n",
       "1796  Yahoo Finance's Allie Garfinkle discusses how ...   \n",
       "1797  Yahoo Finance's Allie Canal breaks down the ec...   \n",
       "\n",
       "                           pub_date  \\\n",
       "1793      June 24, 2022 at 12:16 PM   \n",
       "1794       June 24, 2022 at 2:27 PM   \n",
       "1795  Fri, 24 Jun 2022 15:03:00 GMT   \n",
       "1796      June 24, 2022 at 11:04 AM   \n",
       "1797      June 24, 2022 at 10:22 AM   \n",
       "\n",
       "                                                   link               author  \n",
       "1793  https://finance.yahoo.com/news/this-is-america...        Yahoo Finance  \n",
       "1794  https://finance.yahoo.com/video/abortion-corpo...  Yahoo Finance Video  \n",
       "1795  https://www.marketwatch.com/story/cdc-panel-ba...          MarketWatch  \n",
       "1796  https://finance.yahoo.com/video/disney-amazon-...  Yahoo Finance Video  \n",
       "1797  https://finance.yahoo.com/video/supreme-court-...  Yahoo Finance Video  "
      ]
     },
     "execution_count": 7,
     "metadata": {},
     "output_type": "execute_result"
    }
   ],
   "source": [
    "path = os.path.join(\"./\", \"results/\", \"output2.csv\")\n",
    "df = pandas.read_csv(path)\n",
    "df.tail()"
   ]
  },
  {
   "cell_type": "code",
   "execution_count": null,
   "metadata": {},
   "outputs": [],
   "source": [
    "df['polarity_title'] = None\n",
    "df['subjectivity_title'] = None\n",
    "df['assessments_title'] = None\n",
    "df['polarity_description'] = None\n",
    "df['subjectivity_description'] = None\n",
    "df['assessments_description'] = None"
   ]
  },
  {
   "cell_type": "code",
   "execution_count": null,
   "metadata": {},
   "outputs": [],
   "source": [
    "for index, row in df.itterows():\n",
    "    title_sentiment = TextBlob(df['title']).sentiment_assessments\n",
    "    description_sentiment = TextBlob(df['description']).sentiment_assessments"
   ]
  }
 ],
 "metadata": {
  "kernelspec": {
   "display_name": "base",
   "language": "python",
   "name": "python3"
  },
  "language_info": {
   "codemirror_mode": {
    "name": "ipython",
    "version": 3
   },
   "file_extension": ".py",
   "mimetype": "text/x-python",
   "name": "python",
   "nbconvert_exporter": "python",
   "pygments_lexer": "ipython3",
   "version": "3.9.12"
  },
  "orig_nbformat": 4
 },
 "nbformat": 4,
 "nbformat_minor": 2
}
